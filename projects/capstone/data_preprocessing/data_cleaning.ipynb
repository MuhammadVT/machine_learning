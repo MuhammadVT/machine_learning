{
 "cells": [
  {
   "cell_type": "markdown",
   "metadata": {},
   "source": [
    "# Data Cleaning"
   ]
  },
  {
   "cell_type": "code",
   "execution_count": 34,
   "metadata": {
    "collapsed": true
   },
   "outputs": [],
   "source": [
    "import pandas as pd\n",
    "import numpy as np\n",
    "import datetime as dt\n",
    "import matplotlib.pyplot as plt\n",
    "import os\n",
    "import sqlite3\n",
    "from IPython.display import display\n",
    "\n",
    "# load custom modules\n",
    "from data_sampler import sampler\n",
    "from sqlite_to_csv import sqlite_to_csv\n",
    "from reading_tools import read_data_from_db"
   ]
  },
  {
   "cell_type": "markdown",
   "metadata": {},
   "source": [
    "## 1. Clean the *weather* Data "
   ]
  },
  {
   "cell_type": "markdown",
   "metadata": {},
   "source": [
    "### Display the *weather* Data"
   ]
  },
  {
   "cell_type": "code",
   "execution_count": 28,
   "metadata": {},
   "outputs": [
    {
     "data": {
      "text/html": [
       "<div>\n",
       "<style>\n",
       "    .dataframe thead tr:only-child th {\n",
       "        text-align: right;\n",
       "    }\n",
       "\n",
       "    .dataframe thead th {\n",
       "        text-align: left;\n",
       "    }\n",
       "\n",
       "    .dataframe tbody tr th {\n",
       "        vertical-align: top;\n",
       "    }\n",
       "</style>\n",
       "<table border=\"1\" class=\"dataframe\">\n",
       "  <thead>\n",
       "    <tr style=\"text-align: right;\">\n",
       "      <th></th>\n",
       "      <th>date</th>\n",
       "      <th>max_temperature_f</th>\n",
       "      <th>mean_temperature_f</th>\n",
       "      <th>min_temperature_f</th>\n",
       "      <th>max_dew_point_f</th>\n",
       "      <th>mean_dew_point_f</th>\n",
       "      <th>min_dew_point_f</th>\n",
       "      <th>max_humidity</th>\n",
       "      <th>mean_humidity</th>\n",
       "      <th>min_humidity</th>\n",
       "      <th>...</th>\n",
       "      <th>mean_visibility_miles</th>\n",
       "      <th>min_visibility_miles</th>\n",
       "      <th>max_wind_Speed_mph</th>\n",
       "      <th>mean_wind_speed_mph</th>\n",
       "      <th>max_gust_speed_mph</th>\n",
       "      <th>precipitation_inches</th>\n",
       "      <th>cloud_cover</th>\n",
       "      <th>events</th>\n",
       "      <th>wind_dir_degrees</th>\n",
       "      <th>zip_code</th>\n",
       "    </tr>\n",
       "  </thead>\n",
       "  <tbody>\n",
       "    <tr>\n",
       "      <th>0</th>\n",
       "      <td>2013-08-29</td>\n",
       "      <td>74.0</td>\n",
       "      <td>68.0</td>\n",
       "      <td>61.0</td>\n",
       "      <td>61.0</td>\n",
       "      <td>58.0</td>\n",
       "      <td>56.0</td>\n",
       "      <td>93.0</td>\n",
       "      <td>75.0</td>\n",
       "      <td>57.0</td>\n",
       "      <td>...</td>\n",
       "      <td>10.0</td>\n",
       "      <td>10.0</td>\n",
       "      <td>23.0</td>\n",
       "      <td>11.0</td>\n",
       "      <td>28.0</td>\n",
       "      <td>0</td>\n",
       "      <td>4.0</td>\n",
       "      <td>NaN</td>\n",
       "      <td>286.0</td>\n",
       "      <td>94107</td>\n",
       "    </tr>\n",
       "    <tr>\n",
       "      <th>1</th>\n",
       "      <td>2013-08-30</td>\n",
       "      <td>78.0</td>\n",
       "      <td>69.0</td>\n",
       "      <td>60.0</td>\n",
       "      <td>61.0</td>\n",
       "      <td>58.0</td>\n",
       "      <td>56.0</td>\n",
       "      <td>90.0</td>\n",
       "      <td>70.0</td>\n",
       "      <td>50.0</td>\n",
       "      <td>...</td>\n",
       "      <td>10.0</td>\n",
       "      <td>7.0</td>\n",
       "      <td>29.0</td>\n",
       "      <td>13.0</td>\n",
       "      <td>35.0</td>\n",
       "      <td>0</td>\n",
       "      <td>2.0</td>\n",
       "      <td>NaN</td>\n",
       "      <td>291.0</td>\n",
       "      <td>94107</td>\n",
       "    </tr>\n",
       "    <tr>\n",
       "      <th>2</th>\n",
       "      <td>2013-08-31</td>\n",
       "      <td>71.0</td>\n",
       "      <td>64.0</td>\n",
       "      <td>57.0</td>\n",
       "      <td>57.0</td>\n",
       "      <td>56.0</td>\n",
       "      <td>54.0</td>\n",
       "      <td>93.0</td>\n",
       "      <td>75.0</td>\n",
       "      <td>57.0</td>\n",
       "      <td>...</td>\n",
       "      <td>10.0</td>\n",
       "      <td>10.0</td>\n",
       "      <td>26.0</td>\n",
       "      <td>15.0</td>\n",
       "      <td>31.0</td>\n",
       "      <td>0</td>\n",
       "      <td>4.0</td>\n",
       "      <td>NaN</td>\n",
       "      <td>284.0</td>\n",
       "      <td>94107</td>\n",
       "    </tr>\n",
       "    <tr>\n",
       "      <th>3</th>\n",
       "      <td>2013-09-01</td>\n",
       "      <td>74.0</td>\n",
       "      <td>66.0</td>\n",
       "      <td>58.0</td>\n",
       "      <td>60.0</td>\n",
       "      <td>56.0</td>\n",
       "      <td>53.0</td>\n",
       "      <td>87.0</td>\n",
       "      <td>68.0</td>\n",
       "      <td>49.0</td>\n",
       "      <td>...</td>\n",
       "      <td>10.0</td>\n",
       "      <td>10.0</td>\n",
       "      <td>25.0</td>\n",
       "      <td>13.0</td>\n",
       "      <td>29.0</td>\n",
       "      <td>0</td>\n",
       "      <td>4.0</td>\n",
       "      <td>NaN</td>\n",
       "      <td>284.0</td>\n",
       "      <td>94107</td>\n",
       "    </tr>\n",
       "    <tr>\n",
       "      <th>4</th>\n",
       "      <td>2013-09-02</td>\n",
       "      <td>75.0</td>\n",
       "      <td>69.0</td>\n",
       "      <td>62.0</td>\n",
       "      <td>61.0</td>\n",
       "      <td>60.0</td>\n",
       "      <td>58.0</td>\n",
       "      <td>93.0</td>\n",
       "      <td>77.0</td>\n",
       "      <td>61.0</td>\n",
       "      <td>...</td>\n",
       "      <td>10.0</td>\n",
       "      <td>6.0</td>\n",
       "      <td>23.0</td>\n",
       "      <td>12.0</td>\n",
       "      <td>30.0</td>\n",
       "      <td>0</td>\n",
       "      <td>6.0</td>\n",
       "      <td>NaN</td>\n",
       "      <td>277.0</td>\n",
       "      <td>94107</td>\n",
       "    </tr>\n",
       "  </tbody>\n",
       "</table>\n",
       "<p>5 rows × 24 columns</p>\n",
       "</div>"
      ],
      "text/plain": [
       "        date  max_temperature_f  mean_temperature_f  min_temperature_f  \\\n",
       "0 2013-08-29               74.0                68.0               61.0   \n",
       "1 2013-08-30               78.0                69.0               60.0   \n",
       "2 2013-08-31               71.0                64.0               57.0   \n",
       "3 2013-09-01               74.0                66.0               58.0   \n",
       "4 2013-09-02               75.0                69.0               62.0   \n",
       "\n",
       "   max_dew_point_f  mean_dew_point_f  min_dew_point_f  max_humidity  \\\n",
       "0             61.0              58.0             56.0          93.0   \n",
       "1             61.0              58.0             56.0          90.0   \n",
       "2             57.0              56.0             54.0          93.0   \n",
       "3             60.0              56.0             53.0          87.0   \n",
       "4             61.0              60.0             58.0          93.0   \n",
       "\n",
       "   mean_humidity  min_humidity   ...     mean_visibility_miles  \\\n",
       "0           75.0          57.0   ...                      10.0   \n",
       "1           70.0          50.0   ...                      10.0   \n",
       "2           75.0          57.0   ...                      10.0   \n",
       "3           68.0          49.0   ...                      10.0   \n",
       "4           77.0          61.0   ...                      10.0   \n",
       "\n",
       "   min_visibility_miles  max_wind_Speed_mph  mean_wind_speed_mph  \\\n",
       "0                  10.0                23.0                 11.0   \n",
       "1                   7.0                29.0                 13.0   \n",
       "2                  10.0                26.0                 15.0   \n",
       "3                  10.0                25.0                 13.0   \n",
       "4                   6.0                23.0                 12.0   \n",
       "\n",
       "   max_gust_speed_mph  precipitation_inches  cloud_cover  events  \\\n",
       "0                28.0                     0          4.0     NaN   \n",
       "1                35.0                     0          2.0     NaN   \n",
       "2                31.0                     0          4.0     NaN   \n",
       "3                29.0                     0          4.0     NaN   \n",
       "4                30.0                     0          6.0     NaN   \n",
       "\n",
       "   wind_dir_degrees zip_code  \n",
       "0             286.0    94107  \n",
       "1             291.0    94107  \n",
       "2             284.0    94107  \n",
       "3             284.0    94107  \n",
       "4             277.0    94107  \n",
       "\n",
       "[5 rows x 24 columns]"
      ]
     },
     "metadata": {},
     "output_type": "display_data"
    },
    {
     "name": "stdout",
     "output_type": "stream",
     "text": [
      "This table has 3665 data points and 24 columns.\n"
     ]
    }
   ],
   "source": [
    "# read the data\n",
    "df_weather = pd.read_csv(\"../data/weather.csv\", parse_dates=[\"date\"])\n",
    "\n",
    "# display the data\n",
    "display(df_weather.head())\n",
    "\n",
    "# show the number of data points in trip.csv\n",
    "print(\"This table has {npnts} data points and {col} columns.\".format(npnts=df_weather.shape[0], col=df_weather.shape[1]))"
   ]
  },
  {
   "cell_type": "markdown",
   "metadata": {
    "collapsed": true
   },
   "source": [
    "### Fix _weather_ Data"
   ]
  },
  {
   "cell_type": "markdown",
   "metadata": {},
   "source": [
    "#### Fix Data Type Mismatch in *_precipitation_inches* Column"
   ]
  },
  {
   "cell_type": "code",
   "execution_count": 5,
   "metadata": {},
   "outputs": [
    {
     "data": {
      "text/plain": [
       "date                              datetime64[ns]\n",
       "max_temperature_f                        float64\n",
       "mean_temperature_f                       float64\n",
       "min_temperature_f                        float64\n",
       "max_dew_point_f                          float64\n",
       "mean_dew_point_f                         float64\n",
       "min_dew_point_f                          float64\n",
       "max_humidity                             float64\n",
       "mean_humidity                            float64\n",
       "min_humidity                             float64\n",
       "max_sea_level_pressure_inches            float64\n",
       "mean_sea_level_pressure_inches           float64\n",
       "min_sea_level_pressure_inches            float64\n",
       "max_visibility_miles                     float64\n",
       "mean_visibility_miles                    float64\n",
       "min_visibility_miles                     float64\n",
       "max_wind_Speed_mph                       float64\n",
       "mean_wind_speed_mph                      float64\n",
       "max_gust_speed_mph                       float64\n",
       "precipitation_inches                      object\n",
       "cloud_cover                              float64\n",
       "events                                    object\n",
       "wind_dir_degrees                         float64\n",
       "zip_code                                   int64\n",
       "dtype: object"
      ]
     },
     "execution_count": 5,
     "metadata": {},
     "output_type": "execute_result"
    }
   ],
   "source": [
    "# show the data types of the columns\n",
    "df_weather.dtypes"
   ]
  },
  {
   "cell_type": "markdown",
   "metadata": {},
   "source": [
    "From the data types of the columns displayed above we can see that _pandas_ considered *precipitation_inches* as an object instead of a float. Lets examine the *precipitation_inches* column.  "
   ]
  },
  {
   "cell_type": "code",
   "execution_count": 9,
   "metadata": {},
   "outputs": [
    {
     "data": {
      "text/plain": [
       "array(['0', '0.23', 'T', '0.01', '0.28', '0.63', '0.29', '0.06', '0.85',\n",
       "       '0.09', '0.64', '0.42', '0.35', '0.43', '0.22', '0.74', '0.03',\n",
       "       '0.12', '0.16', '0.49', '0.17', '0.08', '0.04', '0.53', '0.07',\n",
       "       '0.02', '0.83', '1.06', '1.71', '0.37', '0.27', '0.45', '0.78',\n",
       "       '0.88', '0.66', '0.47', '0.1', '0.61', '0.14', '0.05', '0.68',\n",
       "       '0.97', '0.26', '0.15', '0.87', '0.57', '0.69', '0.32', '0.21',\n",
       "       '0.24', '0.52', '0.36', '0.33', '0.25', '0.11', '0.2', '1.18',\n",
       "       '1.43', '3.12', '0.48', '0.19', '1.09', '0.65', '0.13', '0.91',\n",
       "       '0.99', '0.18', '0.4', '1.07', nan, '0.41', '0.34', '1.25', '1.85',\n",
       "       '3.36', '0.71', '1.3', '0.72', '0.6', '0.51', '1.2', '1.28', '3.23',\n",
       "       '0.55', '1.26', '0.39'], dtype=object)"
      ]
     },
     "execution_count": 9,
     "metadata": {},
     "output_type": "execute_result"
    }
   ],
   "source": [
    "# display unique values in precipitation_inches column\n",
    "df_weather.precipitation_inches.unique()"
   ]
  },
  {
   "cell_type": "markdown",
   "metadata": {},
   "source": [
    "The unique values in *precipitation_inches* shows that there is \"T\" among other floating point numbers. Documentation about the *weather* data reads that \" 'T'= trace when amount less than .01 inch\". That means \"T\" represent any number between 0 and 0.01 inch. Since less than 0.01 inch of precipitation is considered to be very light, we may replace \"T\" with any number less that 0.01. Below we replace it with 0.005 inch."
   ]
  },
  {
   "cell_type": "code",
   "execution_count": 23,
   "metadata": {},
   "outputs": [
    {
     "data": {
      "text/plain": [
       "array([nan, '0', '0.005', '0.01', '0.02', '0.03', '0.04', '0.05', '0.06',\n",
       "       '0.07', '0.08', '0.09', '0.1', '0.11', '0.12', '0.13', '0.14',\n",
       "       '0.15', '0.16', '0.17', '0.18', '0.19', '0.2', '0.21', '0.22',\n",
       "       '0.23', '0.24', '0.25', '0.26', '0.27', '0.28', '0.29', '0.32',\n",
       "       '0.33', '0.34', '0.35', '0.36', '0.37', '0.39', '0.4', '0.41',\n",
       "       '0.42', '0.43', '0.45', '0.47', '0.48', '0.49', '0.51', '0.52',\n",
       "       '0.53', '0.55', '0.57', '0.6', '0.61', '0.63', '0.64', '0.65',\n",
       "       '0.66', '0.68', '0.69', '0.71', '0.72', '0.74', '0.78', '0.83',\n",
       "       '0.85', '0.87', '0.88', '0.91', '0.97', '0.99', '1.06', '1.07',\n",
       "       '1.09', '1.18', '1.2', '1.25', '1.26', '1.28', '1.3', '1.43',\n",
       "       '1.71', '1.85', '3.12', '3.23', '3.36'], dtype=object)"
      ]
     },
     "execution_count": 23,
     "metadata": {},
     "output_type": "execute_result"
    }
   ],
   "source": [
    "# change \"T\" to \"0.005\" in precipitation_inches.\n",
    "# \"T\"= trace when amount less than .01 inch\"\n",
    "df_weather.loc[:, \"precipitation_inches\"] = df_weather.precipitation_inches.apply(lambda x: \"0.005\" if x == \"T\" else x)\n",
    "\n",
    "# display unique values in precipitation_inches column after changing \"T\" into \"0.005\"\n",
    "np.sort(df_weather.precipitation_inches.unique())"
   ]
  },
  {
   "cell_type": "markdown",
   "metadata": {},
   "source": [
    "#### Fix Data Inconsistancy in *events* Column"
   ]
  },
  {
   "cell_type": "code",
   "execution_count": 24,
   "metadata": {},
   "outputs": [
    {
     "name": "stdout",
     "output_type": "stream",
     "text": [
      "\n",
      "The types of weather events in the 'events' column are:\n",
      "1. nan\n",
      "2. Fog\n",
      "3. Rain\n",
      "4. Fog-Rain\n",
      "5. rain\n",
      "6. Rain-Thunderstorm\n",
      "\n"
     ]
    }
   ],
   "source": [
    "# types of events\n",
    "print(\"\\nThe types of weather events in the 'events' column are:\")\n",
    "evnts = [str(x) for x in df_weather.events.unique()]\n",
    "print(\"\".join([str(i+1) + \". \" + evnts[i] + \"\\n\" for i in range(len(evnts))]))"
   ]
  },
  {
   "cell_type": "markdown",
   "metadata": {},
   "source": [
    "The results above show that \"Rain\" value is entered in two different ways. We fix this by chaing \"rain\" values into \"Rain\"."
   ]
  },
  {
   "cell_type": "code",
   "execution_count": 26,
   "metadata": {},
   "outputs": [
    {
     "name": "stdout",
     "output_type": "stream",
     "text": [
      "\n",
      "The types of weather events in the 'events' column are:\n",
      "1. nan\n",
      "2. Fog\n",
      "3. Rain\n",
      "4. Fog-Rain\n",
      "5. Rain-Thunderstorm\n",
      "\n"
     ]
    }
   ],
   "source": [
    "# Change \"rain\" to \"Rain\" in the 'events' column .csv file\n",
    "df_weather.loc[:, \"events\"] = df_weather.events.apply(lambda x: \"Rain\" if x == \"rain\" else x)\n",
    "\n",
    "# types of events\n",
    "print(\"\\nThe types of weather events in the 'events' column are:\")\n",
    "evnts = [str(x) for x in df_weather.events.unique()]\n",
    "print(\"\".join([str(i+1) + \". \" + evnts[i] + \"\\n\" for i in range(len(evnts))]))"
   ]
  },
  {
   "cell_type": "markdown",
   "metadata": {},
   "source": [
    "## Store the Fixed Data"
   ]
  },
  {
   "cell_type": "code",
   "execution_count": 27,
   "metadata": {
    "collapsed": true
   },
   "outputs": [],
   "source": [
    "# write the fixed weather data in to weather_fixed.csv file\n",
    "df.to_csv(\"../data/weather_fixed_2.csv\", index=False)"
   ]
  },
  {
   "cell_type": "markdown",
   "metadata": {},
   "source": [
    "## 2. Clean the *status* Data"
   ]
  },
  {
   "cell_type": "markdown",
   "metadata": {},
   "source": [
    "### Display the original *status* Data"
   ]
  },
  {
   "cell_type": "code",
   "execution_count": 43,
   "metadata": {},
   "outputs": [
    {
     "data": {
      "text/html": [
       "<div>\n",
       "<style>\n",
       "    .dataframe thead tr:only-child th {\n",
       "        text-align: right;\n",
       "    }\n",
       "\n",
       "    .dataframe thead th {\n",
       "        text-align: left;\n",
       "    }\n",
       "\n",
       "    .dataframe tbody tr th {\n",
       "        vertical-align: top;\n",
       "    }\n",
       "</style>\n",
       "<table border=\"1\" class=\"dataframe\">\n",
       "  <thead>\n",
       "    <tr style=\"text-align: right;\">\n",
       "      <th></th>\n",
       "      <th>station_id</th>\n",
       "      <th>bikes_available</th>\n",
       "      <th>docks_available</th>\n",
       "      <th>time</th>\n",
       "    </tr>\n",
       "  </thead>\n",
       "  <tbody>\n",
       "    <tr>\n",
       "      <th>0</th>\n",
       "      <td>2</td>\n",
       "      <td>2</td>\n",
       "      <td>25</td>\n",
       "      <td>2013/08/29 12:06:01</td>\n",
       "    </tr>\n",
       "    <tr>\n",
       "      <th>1</th>\n",
       "      <td>2</td>\n",
       "      <td>2</td>\n",
       "      <td>25</td>\n",
       "      <td>2013/08/29 12:07:01</td>\n",
       "    </tr>\n",
       "    <tr>\n",
       "      <th>2</th>\n",
       "      <td>2</td>\n",
       "      <td>2</td>\n",
       "      <td>25</td>\n",
       "      <td>2013/08/29 12:08:01</td>\n",
       "    </tr>\n",
       "    <tr>\n",
       "      <th>3</th>\n",
       "      <td>2</td>\n",
       "      <td>2</td>\n",
       "      <td>25</td>\n",
       "      <td>2013/08/29 12:09:01</td>\n",
       "    </tr>\n",
       "    <tr>\n",
       "      <th>4</th>\n",
       "      <td>2</td>\n",
       "      <td>2</td>\n",
       "      <td>25</td>\n",
       "      <td>2013/08/29 12:10:01</td>\n",
       "    </tr>\n",
       "    <tr>\n",
       "      <th>5</th>\n",
       "      <td>2</td>\n",
       "      <td>2</td>\n",
       "      <td>25</td>\n",
       "      <td>2013/08/29 12:11:01</td>\n",
       "    </tr>\n",
       "    <tr>\n",
       "      <th>6</th>\n",
       "      <td>2</td>\n",
       "      <td>2</td>\n",
       "      <td>25</td>\n",
       "      <td>2013/08/29 12:12:01</td>\n",
       "    </tr>\n",
       "    <tr>\n",
       "      <th>7</th>\n",
       "      <td>2</td>\n",
       "      <td>2</td>\n",
       "      <td>25</td>\n",
       "      <td>2013/08/29 12:13:01</td>\n",
       "    </tr>\n",
       "    <tr>\n",
       "      <th>8</th>\n",
       "      <td>2</td>\n",
       "      <td>2</td>\n",
       "      <td>25</td>\n",
       "      <td>2013/08/29 12:15:01</td>\n",
       "    </tr>\n",
       "    <tr>\n",
       "      <th>9</th>\n",
       "      <td>2</td>\n",
       "      <td>2</td>\n",
       "      <td>25</td>\n",
       "      <td>2013/08/29 12:16:02</td>\n",
       "    </tr>\n",
       "  </tbody>\n",
       "</table>\n",
       "</div>"
      ],
      "text/plain": [
       "   station_id  bikes_available  docks_available                 time\n",
       "0           2                2               25  2013/08/29 12:06:01\n",
       "1           2                2               25  2013/08/29 12:07:01\n",
       "2           2                2               25  2013/08/29 12:08:01\n",
       "3           2                2               25  2013/08/29 12:09:01\n",
       "4           2                2               25  2013/08/29 12:10:01\n",
       "5           2                2               25  2013/08/29 12:11:01\n",
       "6           2                2               25  2013/08/29 12:12:01\n",
       "7           2                2               25  2013/08/29 12:13:01\n",
       "8           2                2               25  2013/08/29 12:15:01\n",
       "9           2                2               25  2013/08/29 12:16:02"
      ]
     },
     "metadata": {},
     "output_type": "display_data"
    }
   ],
   "source": [
    "# read the first 5 rows of status data only for displying purpose.\n",
    "file_path = \"../data/status.csv\"\n",
    "df_status = pd.read_csv(file_path, nrows=100)\n",
    "\n",
    "# get the total number of data points from sqlite db file\n",
    "# make db connection\n",
    "conn = sqlite3.connect(\"../data/database.sqlite\")\n",
    "cur = conn.cursor()\n",
    "\n",
    "# get the total number of data points in status table\n",
    "command = \"SELECT Count(station_id) FROM {tb}\".format(tb=\"status\")\n",
    "cur.execute(command)\n",
    "npnts_1min = cur.fetchone()[0]\n",
    "\n",
    "# close db connection\n",
    "conn.close()\n",
    "\n",
    "# display the data\n",
    "display(df_status.head(10))"
   ]
  },
  {
   "cell_type": "code",
   "execution_count": 42,
   "metadata": {},
   "outputs": [
    {
     "name": "stdout",
     "output_type": "stream",
     "text": [
      "The file size of status.csv is 1897 MB.\n",
      "\n",
      "The number of data points in this table is 71.98 millions.\n"
     ]
    }
   ],
   "source": [
    "# Show the size of status.csv file\n",
    "print \"The file size of status.csv is \" + str(os.path.getsize(\"../data/status.csv\") >> 20) + \" MB.\"\n",
    "print(\"\\nThe number of data points in this table is \" + str(round(npnts_1min/1.e6, 2)) + \" millions.\")"
   ]
  },
  {
   "cell_type": "markdown",
   "metadata": {},
   "source": [
    "This file is quite large to work with in a normal PC."
   ]
  },
  {
   "cell_type": "markdown",
   "metadata": {},
   "source": [
    "### Downsample the *status* Data"
   ]
  },
  {
   "cell_type": "code",
   "execution_count": null,
   "metadata": {
    "collapsed": true
   },
   "outputs": [],
   "source": [
    "# run the folowing if downsampled data is needed. It only needs to be run once.\n",
    "sample_data = False   # set this to True is sampled data is needed\n",
    "db_to_csv = False     # set this to True if .csv format is desired\n",
    "\n",
    "# set parameter values\n",
    "time_res = 15\n",
    "dbname = \"../data/sampled_data.sqlite\"\n",
    "tbname = \"time_res_\" + str(time_res) + \"min\"\n",
    "\n",
    "# downsample the data and then store the output in an sqlite3 db\n",
    "if sample_data:\n",
    "    output = sampler(time_res=time_res, n_jobs=None, save_to_db=True,\n",
    "                     db_name=dbname, table_name=tbname, verbose=False)\n",
    "    \n",
    "# move data from sqlite3 db into a csv file, if needed\n",
    "if db_to_csv:\n",
    "    outfile = \"../data/status_\" + tbname + \".csv\"\n",
    "    print \"Moving data from \" + tbname + \" table to a .csv file.\"\n",
    "    sqlite_to_csv(dbname, tbname, outfile)\n",
    "    print \"status_time_res_\" + str(time_res) + \".csv has been created.\""
   ]
  },
  {
   "cell_type": "markdown",
   "metadata": {},
   "source": [
    "### Display the Downsampled *status* Data"
   ]
  },
  {
   "cell_type": "code",
   "execution_count": 51,
   "metadata": {},
   "outputs": [
    {
     "name": "stdout",
     "output_type": "stream",
     "text": [
      "\n",
      "status data sampled at every 15 minutes:\n"
     ]
    },
    {
     "data": {
      "text/html": [
       "<div>\n",
       "<style>\n",
       "    .dataframe thead tr:only-child th {\n",
       "        text-align: right;\n",
       "    }\n",
       "\n",
       "    .dataframe thead th {\n",
       "        text-align: left;\n",
       "    }\n",
       "\n",
       "    .dataframe tbody tr th {\n",
       "        vertical-align: top;\n",
       "    }\n",
       "</style>\n",
       "<table border=\"1\" class=\"dataframe\">\n",
       "  <thead>\n",
       "    <tr style=\"text-align: right;\">\n",
       "      <th></th>\n",
       "      <th>station_id</th>\n",
       "      <th>bikes_available</th>\n",
       "      <th>docks_available</th>\n",
       "      <th>time</th>\n",
       "    </tr>\n",
       "  </thead>\n",
       "  <tbody>\n",
       "    <tr>\n",
       "      <th>0</th>\n",
       "      <td>station_id</td>\n",
       "      <td>bikes_available</td>\n",
       "      <td>docks_available</td>\n",
       "      <td>time</td>\n",
       "    </tr>\n",
       "    <tr>\n",
       "      <th>1</th>\n",
       "      <td>2</td>\n",
       "      <td>2</td>\n",
       "      <td>25</td>\n",
       "      <td>2013-08-29 12:15:00</td>\n",
       "    </tr>\n",
       "    <tr>\n",
       "      <th>2</th>\n",
       "      <td>2</td>\n",
       "      <td>2</td>\n",
       "      <td>25</td>\n",
       "      <td>2013-08-29 12:30:00</td>\n",
       "    </tr>\n",
       "    <tr>\n",
       "      <th>3</th>\n",
       "      <td>2</td>\n",
       "      <td>2</td>\n",
       "      <td>25</td>\n",
       "      <td>2013-08-29 12:45:00</td>\n",
       "    </tr>\n",
       "    <tr>\n",
       "      <th>4</th>\n",
       "      <td>2</td>\n",
       "      <td>2</td>\n",
       "      <td>25</td>\n",
       "      <td>2013-08-29 13:00:00</td>\n",
       "    </tr>\n",
       "  </tbody>\n",
       "</table>\n",
       "</div>"
      ],
      "text/plain": [
       "   station_id  bikes_available  docks_available                 time\n",
       "0  station_id  bikes_available  docks_available                 time\n",
       "1           2                2               25  2013-08-29 12:15:00\n",
       "2           2                2               25  2013-08-29 12:30:00\n",
       "3           2                2               25  2013-08-29 12:45:00\n",
       "4           2                2               25  2013-08-29 13:00:00"
      ]
     },
     "metadata": {},
     "output_type": "display_data"
    },
    {
     "name": "stdout",
     "output_type": "stream",
     "text": [
      "\n",
      "The number of data points in this table is 4.8 millions, which is 6.67% of the original data.\n",
      "\n"
     ]
    }
   ],
   "source": [
    "time_res = \"15\"\n",
    "\n",
    "# make db connection\n",
    "conn = sqlite3.connect(\"../data/sampled_data.sqlite\")\n",
    "cur = conn.cursor()\n",
    "\n",
    "# read the data\n",
    "df_status_res15 = pd.read_csv(\"../data/status_time_res_\" + time_res + \"min.csv\", \n",
    "                              nrows=100, header=None, names=df_status.columns)\n",
    "\n",
    "print(\"\\nstatus data sampled at every \" + time_res + \" minutes:\")\n",
    "    \n",
    "# display the data\n",
    "display(df_status_res15.head(5))\n",
    "    \n",
    "# get the total number of data points in status table\n",
    "tb = \"time_res_\" + time_res + \"min\"\n",
    "command = \"SELECT Count(station_id) FROM {tb}\".format(tb=tb)\n",
    "cur.execute(command)\n",
    "npnts = cur.fetchone()[0]\n",
    "ratio = round(100. * npnts / npnts_1min, 2)\n",
    "print(\"\\nThe number of data points in this table is \" + str(round(npnts/1.e6, 2)) + \" millions\" +\\\n",
    "        \", which is \" + str(ratio) + \"% of the original data.\\n\")\n",
    "    \n",
    "# close db connection\n",
    "conn.close()"
   ]
  }
 ],
 "metadata": {
  "kernelspec": {
   "display_name": "Python [conda env:ml_capstone]",
   "language": "python",
   "name": "conda-env-ml_capstone-py"
  },
  "language_info": {
   "codemirror_mode": {
    "name": "ipython",
    "version": 2
   },
   "file_extension": ".py",
   "mimetype": "text/x-python",
   "name": "python",
   "nbconvert_exporter": "python",
   "pygments_lexer": "ipython2",
   "version": "2.7.13"
  }
 },
 "nbformat": 4,
 "nbformat_minor": 2
}
